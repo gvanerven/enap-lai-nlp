{
 "cells": [
  {
   "cell_type": "code",
   "execution_count": 1,
   "id": "a26a4ea5-3f75-4d12-9857-ccffa6f37854",
   "metadata": {},
   "outputs": [],
   "source": [
    "import pandas as pd\n",
    "import requests\n",
    "import zipfile\n",
    "from io import BytesIO\n",
    "from datetime import datetime\n",
    "import gc"
   ]
  },
  {
   "cell_type": "code",
   "execution_count": 2,
   "id": "3773acfa-ffb2-498f-a697-a75a2f46820f",
   "metadata": {},
   "outputs": [],
   "source": [
    "############################################################################################\n",
    "def conexao(url_do_zip, max_tentativas = 50):\n",
    "          \n",
    "    for tentativa in range(max_tentativas):\n",
    "        try:\n",
    "            response = requests.get(url_do_zip, stream=True, timeout=0.3)\n",
    "            response.raise_for_status()  # Verifica se houve algum erro no download\n",
    "            print(\"Conexão aceita na {} tentativa\".format(tentativa + 1))\n",
    "            return response\n",
    "        except requests.exceptions.RequestException as e:\n",
    "            if tentativa+1 == max_tentativas:\n",
    "                print(\"Erro reportado: {}\", e)\n",
    "    else:\n",
    "        print(\"Falha ao fazer a conexão para o download do arquivo zip após {} tentativas.\".format(max_tentativas))\n",
    "        return ''\n",
    "############################################################################################\n",
    "def zip_dos_dados(response):\n",
    "    \n",
    "    if response.status_code == 200:\n",
    "        zip_data = BytesIO(response.content)\n",
    "        return zip_data\n",
    "    else:\n",
    "        print(\"Falha ao fazer o download do arquivo zip.\")\n",
    "        return ''\n",
    "############################################################################################\n",
    "def csv_dos_dados(zip_data, nome_do_arquivo_csv):\n",
    "\n",
    "    with zipfile.ZipFile(zip_data, 'r') as zip_ref:\n",
    "        for filename in zip_ref.namelist():\n",
    "            if nome_do_arquivo_csv in filename and filename.endswith('.csv'):\n",
    "                with zip_ref.open(filename) as csv_file:\n",
    "                    df = pd.read_csv(csv_file, sep=';', encoding='utf-16', \n",
    "                                     dayfirst=True, engine='c',\n",
    "                                     low_memory=False)\n",
    "                    return df\n",
    "        print(\"O arquivo CSV não foi encontrado no arquivo zip.\")\n",
    "        return ''"
   ]
  },
  {
   "cell_type": "code",
   "execution_count": 3,
   "id": "dde00169-e168-437f-9ffb-59410c7fe284",
   "metadata": {},
   "outputs": [
    {
     "name": "stdout",
     "output_type": "stream",
     "text": [
      "Conexão aceita na 4 tentativa\n",
      "(111363, 21)\n",
      "(111363, 22)\n"
     ]
    }
   ],
   "source": [
    "url_do_zip = 'https://dadosabertos-download.cgu.gov.br/FalaBR/Arquivos_FalaBR_Filtrado/Arquivos_csv_2020.zip'\n",
    "nome_do_arquivo_csv = '_Pedidos_csv_'\n",
    "response = conexao(url_do_zip)\n",
    "zip_data = zip_dos_dados(response)\n",
    "df = csv_dos_dados(zip_data, nome_do_arquivo_csv)\n",
    "print(df.shape)\n",
    "df = df.assign(Ano='2020')\n",
    "df_consolidado = df.copy()\n",
    "print(df_consolidado.shape)"
   ]
  },
  {
   "cell_type": "code",
   "execution_count": 4,
   "id": "b2a13fcc-a666-4413-8da5-ad8210a96a59",
   "metadata": {},
   "outputs": [
    {
     "name": "stdout",
     "output_type": "stream",
     "text": [
      "Conexão aceita na 1 tentativa\n",
      "(79545, 21)\n",
      "(190908, 22)\n"
     ]
    }
   ],
   "source": [
    "url_do_zip = 'https://dadosabertos-download.cgu.gov.br/FalaBR/Arquivos_FalaBR_Filtrado/Arquivos_csv_2021.zip'\n",
    "nome_do_arquivo_csv = '_Pedidos_csv_'\n",
    "response = conexao(url_do_zip)\n",
    "zip_data = zip_dos_dados(response)\n",
    "df = csv_dos_dados(zip_data, nome_do_arquivo_csv)\n",
    "print(df.shape)\n",
    "df = df.assign(Ano='2021')\n",
    "df_consolidado = pd.concat([df_consolidado, df], ignore_index=True)\n",
    "print(df_consolidado.shape)"
   ]
  },
  {
   "cell_type": "code",
   "execution_count": 5,
   "id": "b5bc843c-9333-4cd5-acf3-8fd758d48d7a",
   "metadata": {},
   "outputs": [
    {
     "name": "stdout",
     "output_type": "stream",
     "text": [
      "Conexão aceita na 1 tentativa\n",
      "(69504, 21)\n",
      "(260412, 22)\n"
     ]
    }
   ],
   "source": [
    "url_do_zip = 'https://dadosabertos-download.cgu.gov.br/FalaBR/Arquivos_FalaBR_Filtrado/Arquivos_csv_2022.zip'\n",
    "nome_do_arquivo_csv = '_Pedidos_csv_'\n",
    "response = conexao(url_do_zip)\n",
    "zip_data = zip_dos_dados(response)\n",
    "df = csv_dos_dados(zip_data, nome_do_arquivo_csv)\n",
    "print(df.shape)\n",
    "df = df.assign(Ano='2022')\n",
    "df_consolidado = pd.concat([df_consolidado, df], ignore_index=True)\n",
    "print(df_consolidado.shape)"
   ]
  },
  {
   "cell_type": "code",
   "execution_count": 6,
   "id": "be9bcca5-ef22-4290-b777-4b527f46c846",
   "metadata": {},
   "outputs": [
    {
     "name": "stdout",
     "output_type": "stream",
     "text": [
      "(259220, 22)\n"
     ]
    }
   ],
   "source": [
    "df_filtrado = df_consolidado[(df_consolidado['Esfera'] == 'Federal') \n",
    "                  & (df_consolidado['Situacao'] == 'Concluída') \n",
    "                  & (df_consolidado['OrigemSolicitacao'] == 'Internet')]\n",
    "print(df_filtrado.shape)"
   ]
  },
  {
   "cell_type": "code",
   "execution_count": 7,
   "id": "b7c121e3-47b1-430b-8f88-5c005fd481c9",
   "metadata": {},
   "outputs": [],
   "source": [
    "df_campos_alvo = df_filtrado[['OrgaoDestinatario', 'DataRegistro', 'DetalhamentoSolicitacao', 'Ano']]\n",
    "contagem_ocorrencias = df_campos_alvo['OrgaoDestinatario'].value_counts()\n",
    "contagem_acumulada = contagem_ocorrencias.cumsum()\n",
    "total_ocorrencias = contagem_ocorrencias.sum()\n",
    "limite = 0.85 * total_ocorrencias\n",
    "registros_selecionados = contagem_acumulada[contagem_acumulada <= limite]"
   ]
  },
  {
   "cell_type": "code",
   "execution_count": 8,
   "id": "d96fb5d2-916a-4d0e-88b6-2899190995a9",
   "metadata": {},
   "outputs": [
    {
     "name": "stdout",
     "output_type": "stream",
     "text": [
      "(220185, 6)\n"
     ]
    }
   ],
   "source": [
    "recorte_amostral = df_campos_alvo[df_campos_alvo['OrgaoDestinatario'].isin(registros_selecionados.index)].copy()\n",
    "recorte_amostral['DataRegistro'] = pd.to_datetime(recorte_amostral['DataRegistro'], format='%d/%m/%Y')\n",
    "recorte_amostral['Dia da Semana'] = recorte_amostral['DataRegistro'].dt.day_name()\n",
    "recorte_amostral['Mês'] = recorte_amostral['DataRegistro'].dt.month_name()\n",
    "print(recorte_amostral.shape)"
   ]
  },
  {
   "cell_type": "code",
   "execution_count": 9,
   "id": "1742a8f3-b561-4180-ac9b-33464e744c38",
   "metadata": {},
   "outputs": [],
   "source": [
    "recorte_amostral.to_pickle('df_pedidos_baixados_2020_a_2023.pkl')"
   ]
  }
 ],
 "metadata": {
  "kernelspec": {
   "display_name": "Python 3 (ipykernel)",
   "language": "python",
   "name": "python3"
  },
  "language_info": {
   "codemirror_mode": {
    "name": "ipython",
    "version": 3
   },
   "file_extension": ".py",
   "mimetype": "text/x-python",
   "name": "python",
   "nbconvert_exporter": "python",
   "pygments_lexer": "ipython3",
   "version": "3.12.3"
  }
 },
 "nbformat": 4,
 "nbformat_minor": 5
}

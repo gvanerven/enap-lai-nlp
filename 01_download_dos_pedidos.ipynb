{
 "cells": [
  {
   "cell_type": "code",
   "execution_count": 1,
   "id": "a26a4ea5-3f75-4d12-9857-ccffa6f37854",
   "metadata": {},
   "outputs": [],
   "source": [
    "import pandas as pd\n",
    "import requests\n",
    "import zipfile\n",
    "from io import BytesIO\n",
    "from datetime import datetime"
   ]
  },
  {
   "cell_type": "code",
   "execution_count": 2,
   "id": "3773acfa-ffb2-498f-a697-a75a2f46820f",
   "metadata": {},
   "outputs": [],
   "source": [
    "############################################################################################\n",
    "def conexao(url_do_zip, max_tentativas = 50):\n",
    "          \n",
    "    for tentativa in range(max_tentativas):\n",
    "        try:\n",
    "            response = requests.get(url_do_zip, stream=True, timeout=1)\n",
    "            response.raise_for_status()  # Verifica se houve algum erro no download\n",
    "            print(\"Conexão aceita na {} tentativa\".format(tentativa + 1))\n",
    "            return response\n",
    "        except requests.exceptions.RequestException as e:\n",
    "            if tentativa+1 == max_tentativas:\n",
    "                print(\"Erro reportado: {}\", e)\n",
    "    else:\n",
    "        print(\"Falha ao fazer a conexão para o download do arquivo zip após {} tentativas.\".format(max_tentativas))\n",
    "        return ''\n",
    "############################################################################################\n",
    "def zip_dos_dados(response):\n",
    "    \n",
    "    if response.status_code == 200:\n",
    "        zip_data = BytesIO(response.content)\n",
    "        return zip_data\n",
    "    else:\n",
    "        print(\"Falha ao fazer o download do arquivo zip.\")\n",
    "        return ''\n",
    "############################################################################################\n",
    "def csv_dos_dados(zip_data, nome_do_arquivo_csv):\n",
    "\n",
    "    with zipfile.ZipFile(zip_data, 'r') as zip_ref:\n",
    "        for filename in zip_ref.namelist():\n",
    "            if nome_do_arquivo_csv in filename and filename.endswith('.csv'):\n",
    "                with zip_ref.open(filename) as csv_file:\n",
    "                    df = pd.read_csv(csv_file, sep=';', encoding='utf-16', \n",
    "                                     dayfirst=True, engine='c',\n",
    "                                     low_memory=False)\n",
    "                    return df\n",
    "        print(\"O arquivo CSV não foi encontrado no arquivo zip.\")\n",
    "        return ''\n",
    "\n",
    "def carrega_dado(url_do_zip,nome_do_arquivo_csv):\n",
    "    response = conexao(url_do_zip)\n",
    "    zip_data = zip_dos_dados(response)\n",
    "    df = csv_dos_dados(zip_data, nome_do_arquivo_csv)\n",
    "    print(df.shape)\n",
    "    return df"
   ]
  },
  {
   "cell_type": "code",
   "execution_count": 3,
   "id": "dde00169-e168-437f-9ffb-59410c7fe284",
   "metadata": {},
   "outputs": [
    {
     "name": "stdout",
     "output_type": "stream",
     "text": [
      "Conexão aceita na 1 tentativa\n",
      "(111357, 21)\n",
      "(111357, 21)\n"
     ]
    }
   ],
   "source": [
    "url_do_zip = 'https://dadosabertos-download.cgu.gov.br/FalaBR/Arquivos_FalaBR_Filtrado/Arquivos_csv_2020.zip'\n",
    "nome_do_arquivo_csv = '_Pedidos_csv_'\n",
    "df = carrega_dado(url_do_zip, nome_do_arquivo_csv)\n",
    "df_consolidado = df.copy()\n",
    "print(df_consolidado.shape)"
   ]
  },
  {
   "cell_type": "code",
   "execution_count": 4,
   "id": "b2a13fcc-a666-4413-8da5-ad8210a96a59",
   "metadata": {},
   "outputs": [
    {
     "name": "stdout",
     "output_type": "stream",
     "text": [
      "Conexão aceita na 3 tentativa\n",
      "(79543, 21)\n",
      "(190900, 21)\n"
     ]
    }
   ],
   "source": [
    "url_do_zip = 'https://dadosabertos-download.cgu.gov.br/FalaBR/Arquivos_FalaBR_Filtrado/Arquivos_csv_2021.zip'\n",
    "nome_do_arquivo_csv = '_Pedidos_csv_'\n",
    "df = carrega_dado(url_do_zip, nome_do_arquivo_csv)\n",
    "df_consolidado = pd.concat([df_consolidado, df], ignore_index=True)\n",
    "print(df_consolidado.shape)"
   ]
  },
  {
   "cell_type": "code",
   "execution_count": 5,
   "id": "b5bc843c-9333-4cd5-acf3-8fd758d48d7a",
   "metadata": {},
   "outputs": [
    {
     "name": "stdout",
     "output_type": "stream",
     "text": [
      "Conexão aceita na 2 tentativa\n",
      "(69504, 21)\n",
      "(260404, 21)\n"
     ]
    }
   ],
   "source": [
    "url_do_zip = 'https://dadosabertos-download.cgu.gov.br/FalaBR/Arquivos_FalaBR_Filtrado/Arquivos_csv_2022.zip'\n",
    "nome_do_arquivo_csv = '_Pedidos_csv_'\n",
    "df = carrega_dado(url_do_zip, nome_do_arquivo_csv)\n",
    "df_consolidado = pd.concat([df_consolidado, df], ignore_index=True)\n",
    "print(df_consolidado.shape)"
   ]
  },
  {
   "cell_type": "code",
   "execution_count": 6,
   "id": "be9bcca5-ef22-4290-b777-4b527f46c846",
   "metadata": {},
   "outputs": [
    {
     "name": "stdout",
     "output_type": "stream",
     "text": [
      "(259212, 21)\n"
     ]
    }
   ],
   "source": [
    "df_filtrado = df_consolidado[(df_consolidado['Esfera'] == 'Federal') \n",
    "                  & (df_consolidado['Situacao'] == 'Concluída') \n",
    "                  & (df_consolidado['OrigemSolicitacao'] == 'Internet')]\n",
    "print(df_filtrado.shape)"
   ]
  },
  {
   "cell_type": "code",
   "execution_count": 7,
   "id": "b7c121e3-47b1-430b-8f88-5c005fd481c9",
   "metadata": {},
   "outputs": [],
   "source": [
    "df_campos_alvo = df_filtrado[['OrgaoDestinatario', 'DataRegistro', 'DetalhamentoSolicitacao']].drop_duplicates()\n",
    "contagem_ocorrencias = df_campos_alvo['OrgaoDestinatario'].value_counts()\n",
    "contagem_acumulada = contagem_ocorrencias.cumsum()\n",
    "total_ocorrencias = contagem_ocorrencias.sum()\n",
    "percentual_acumulado = (contagem_acumulada / total_ocorrencias) * 100"
   ]
  },
  {
   "cell_type": "code",
   "execution_count": 8,
   "id": "601dbe5a-2dfd-4ba3-a88d-dd6f6a30ec90",
   "metadata": {},
   "outputs": [
    {
     "name": "stdout",
     "output_type": "stream",
     "text": [
      "(255237, 8)\n"
     ]
    }
   ],
   "source": [
    "df_contagens = pd.DataFrame({   'OrgaoDestinatario': contagem_ocorrencias.index,\n",
    "                                'Qtd_pedidos_2020_2023': contagem_ocorrencias.values,\n",
    "                                'PercentualAcumulado_2020_2023': percentual_acumulado.values})\n",
    "df_campos_alvo = df_campos_alvo.merge(df_contagens, on='OrgaoDestinatario', how='left')\n",
    "df_campos_alvo['DataRegistro'] = pd.to_datetime(df_campos_alvo['DataRegistro'], format='%d/%m/%Y')\n",
    "df_campos_alvo['Dia da Semana'] = df_campos_alvo['DataRegistro'].dt.day_name()\n",
    "df_campos_alvo['Mês'] = df_campos_alvo['DataRegistro'].dt.month_name()\n",
    "df_campos_alvo['Ano'] = df_campos_alvo['DataRegistro'].dt.year\n",
    "print(df_campos_alvo.shape)"
   ]
  },
  {
   "cell_type": "code",
   "execution_count": 9,
   "id": "e9e14e98-fcba-4ec5-983f-9d330ffd7a3c",
   "metadata": {},
   "outputs": [
    {
     "data": {
      "text/plain": [
       "(312,)"
      ]
     },
     "execution_count": 9,
     "metadata": {},
     "output_type": "execute_result"
    }
   ],
   "source": [
    "# Quantidade de Órgãos\n",
    "df_campos_alvo.OrgaoDestinatario.unique().shape"
   ]
  },
  {
   "cell_type": "code",
   "execution_count": 10,
   "id": "1742a8f3-b561-4180-ac9b-33464e744c38",
   "metadata": {},
   "outputs": [],
   "source": [
    "df_campos_alvo.to_pickle('df_pedidos_baixados_2020_a_2023.pkl')"
   ]
  },
  {
   "cell_type": "code",
   "execution_count": 11,
   "id": "818bd1f4-9502-4e03-bb12-5827d97a606a",
   "metadata": {},
   "outputs": [],
   "source": [
    "from pandarallel import pandarallel\n",
    "import spacy\n",
    "nlp = spacy.load(\"pt_core_news_lg\")\n",
    "stop_words = set(spacy.lang.pt.STOP_WORDS)"
   ]
  },
  {
   "cell_type": "code",
   "execution_count": 12,
   "id": "4c308031-7a98-4885-b009-aa99dfd4f12f",
   "metadata": {},
   "outputs": [],
   "source": [
    "def processa_texto(texto, nlp, stop_words):\n",
    "    import re\n",
    "    # Remover pontuação\n",
    "    texto = re.sub(r'[^\\w\\s]', '', texto)\n",
    "    # Converter para minúsculas\n",
    "    texto = texto.lower()\n",
    "    # Tokenizar o texto\n",
    "    doc = nlp(texto)  \n",
    "    # Lematização e remoção de stopwords\n",
    "    lemmas = [token.lemma_ for token in doc if token.text not in stop_words]\n",
    "    # Retornar o texto pré-processado\n",
    "    return ' '.join(lemmas)   "
   ]
  },
  {
   "cell_type": "code",
   "execution_count": 13,
   "id": "4083b3d5-8f2b-473c-801a-c3252239f9af",
   "metadata": {},
   "outputs": [],
   "source": [
    "pandarallel.initialize(nb_workers=20, verbose=0) # ajustar de acordo com a cpu"
   ]
  },
  {
   "cell_type": "code",
   "execution_count": 14,
   "id": "3d551118-e36b-40a2-8d2c-3caa31673120",
   "metadata": {},
   "outputs": [
    {
     "name": "stdout",
     "output_type": "stream",
     "text": [
      "CPU times: total: 53.1 s\n",
      "Wall time: 6min 24s\n"
     ]
    }
   ],
   "source": [
    "%%time\n",
    "df_campos_alvo['DetalhamentoSolicitacao'] = \\\n",
    "df_campos_alvo['DetalhamentoSolicitacao'].parallel_apply(processa_texto, \n",
    "                                                           nlp=nlp, \n",
    "                                                           stop_words=stop_words)"
   ]
  },
  {
   "cell_type": "code",
   "execution_count": 15,
   "id": "4a7dc4b9-9345-4d15-a2c6-bcf05749eb81",
   "metadata": {},
   "outputs": [],
   "source": [
    "df_campos_alvo.to_pickle('df_pedidos_baixados_2020_a_2023_processado.pkl')"
   ]
  }
 ],
 "metadata": {
  "kernelspec": {
   "display_name": "Python 3 (ipykernel)",
   "language": "python",
   "name": "python3"
  },
  "language_info": {
   "codemirror_mode": {
    "name": "ipython",
    "version": 3
   },
   "file_extension": ".py",
   "mimetype": "text/x-python",
   "name": "python",
   "nbconvert_exporter": "python",
   "pygments_lexer": "ipython3",
   "version": "3.12.3"
  }
 },
 "nbformat": 4,
 "nbformat_minor": 5
}
